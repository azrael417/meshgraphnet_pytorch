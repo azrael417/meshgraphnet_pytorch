{
 "cells": [
  {
   "cell_type": "code",
   "execution_count": null,
   "id": "e46dd491-8501-4083-a04a-243ee7c7646f",
   "metadata": {},
   "outputs": [],
   "source": [
    "%load_ext autoreload\n",
    "%autoreload 2\n",
    "import hydra\n",
    "import sys\n",
    "sys.path.append('../meshgraphnet')\n",
    "from omegaconf import DictConfig, OmegaConf\n",
    "from data.datamodule import MeshDataModule\n",
    "from torch_geometric.loader import DataLoader\n",
    "from tasks.CfdSequenceRegressionTask import CfdSequenceRegression\n",
    "from tasks.ClothSeqenceRegressionTask import ClothSequenceRegression\n",
    "from visualization.viz import generate_images\n",
    "import torch\n",
    "import numpy as np\n",
    "import matplotlib.pyplot as plt\n",
    "from tqdm import tqdm"
   ]
  },
  {
   "cell_type": "code",
   "execution_count": null,
   "id": "113ec92c-ca58-499d-98a8-c3010e31631a",
   "metadata": {},
   "outputs": [],
   "source": [
    "path = \"\"    # path to checkpoint of cfd model\n",
    "model = CfdSequenceRegression.load_from_checkpoint(path, map_location='cuda')\n",
    "\n",
    "cfg = {\n",
    "    'dataset_name': 'cylinder_flow',\n",
    "    'field': 'velocity',\n",
    "    'history': False,\n",
    "    'batch_size_train': 1,\n",
    "    'batch_size_valid': 10,\n",
    "    'data_dir': '/nfs/students/yan/data/cylinder_flow',\n",
    "    'steps': [1, 10, 50, 100, 200],\n",
    "    'max_step': 598              # rollout 598 steps\n",
    "}\n",
    "cfg = OmegaConf.create(cfg)\n",
    "\n",
    "datamodule = MeshDataModule(cfg)\n",
    "datamodule.prepare_data()\n",
    "datamodule.setup()\n",
    "\n",
    "valid_ds = datamodule.valid_ds\n",
    "valid_loader = datamodule.val_dataloader()\n",
    "\n",
    "trajectories = model.predict_trajectory(valid_loader, step=cfg.max_step)"
   ]
  },
  {
   "cell_type": "code",
   "execution_count": null,
   "id": "9b2b74b9-4028-4890-9ef6-a0d7324895d8",
   "metadata": {},
   "outputs": [],
   "source": [
    "scalars = {'mse_%03d_steps' % step: 0.0 for step in cfg.steps}\n",
    "\n",
    "num_data = len(trajectories)\n",
    "for i in range(num_data):\n",
    "    error = np.mean((valid_ds[i].target_velocity[:, :cfg.max_step].numpy() - trajectories[i].numpy())**2, axis=-1)\n",
    "    scalars = {'mse_%03d_steps' % step:\n",
    "               scalars['mse_%03d_steps' % step] + np.mean(error[:, :step])\n",
    "               for step in cfg.steps}\n",
    "scalars = {key: value / num_data for key, value in scalars.items()}\n",
    "print(scalars)"
   ]
  },
  {
   "cell_type": "code",
   "execution_count": null,
   "id": "e1696464-c638-41df-8a6a-59c0792b87a6",
   "metadata": {},
   "outputs": [],
   "source": [
    "path = \"\"     # path to checkpoint of cloth model\n",
    "model = ClothSequenceRegression.load_from_checkpoint(path, map_location='cuda')\n",
    "\n",
    "cfg = {\n",
    "    'dataset_name': 'flag_simple',\n",
    "    'field': 'world_pos',\n",
    "    'history': True,\n",
    "    'batch_size_train': 1,\n",
    "    'batch_size_valid': 20,\n",
    "    'data_dir': '/nfs/students/yan/data/flag_simple',\n",
    "    'steps': [1, 10, 50],\n",
    "    'max_step': 50             # rollout 50 steps\n",
    "}\n",
    "cfg = OmegaConf.create(cfg)\n",
    "\n",
    "datamodule = MeshDataModule(cfg)\n",
    "datamodule.prepare_data()\n",
    "datamodule.setup()\n",
    "\n",
    "valid_ds = datamodule.valid_ds\n",
    "valid_loader = datamodule.val_dataloader()\n",
    "\n",
    "trajectories = model.predict_trajectory(valid_loader, step=cfg.max_step)"
   ]
  },
  {
   "cell_type": "code",
   "execution_count": null,
   "id": "c4093edc-eba7-4dab-ad91-6ac7961f4336",
   "metadata": {},
   "outputs": [],
   "source": [
    "scalars = {'mse_%03d_steps' % step: 0.0 for step in cfg.steps}\n",
    "\n",
    "num_data = len(trajectories)\n",
    "for i in range(num_data):\n",
    "    error = np.mean((valid_ds[i].target_world_pos[:, :cfg.max_step].numpy() - trajectories[i].numpy())**2, axis=-1)\n",
    "    scalars = {'mse_%03d_steps' % step:\n",
    "               scalars['mse_%03d_steps' % step] + np.mean(error[:, :step])\n",
    "               for step in cfg.steps}\n",
    "scalars = {key: value / num_data for key, value in scalars.items()}\n",
    "print(scalars)"
   ]
  }
 ],
 "metadata": {
  "kernelspec": {
   "display_name": "Python 3 (ipykernel)",
   "language": "python",
   "name": "python3"
  },
  "language_info": {
   "codemirror_mode": {
    "name": "ipython",
    "version": 3
   },
   "file_extension": ".py",
   "mimetype": "text/x-python",
   "name": "python",
   "nbconvert_exporter": "python",
   "pygments_lexer": "ipython3",
   "version": "3.9.7"
  }
 },
 "nbformat": 4,
 "nbformat_minor": 5
}
